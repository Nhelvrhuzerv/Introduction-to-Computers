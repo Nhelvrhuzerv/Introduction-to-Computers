{
  "nbformat": 4,
  "nbformat_minor": 0,
  "metadata": {
    "colab": {
      "name": "0509.ipynb",
      "provenance": [],
      "authorship_tag": "ABX9TyPejCJiB9DDLXA2fAGAANCR",
      "include_colab_link": true
    },
    "kernelspec": {
      "name": "python3",
      "display_name": "Python 3"
    },
    "language_info": {
      "name": "python"
    }
  },
  "cells": [
    {
      "cell_type": "markdown",
      "metadata": {
        "id": "view-in-github",
        "colab_type": "text"
      },
      "source": [
        "<a href=\"https://colab.research.google.com/github/Nhelvrhuzerv/Introduction-to-Computers/blob/main/0509.ipynb\" target=\"_parent\"><img src=\"https://colab.research.google.com/assets/colab-badge.svg\" alt=\"Open In Colab\"/></a>"
      ]
    },
    {
      "cell_type": "code",
      "execution_count": 1,
      "metadata": {
        "colab": {
          "base_uri": "https://localhost:8080/"
        },
        "id": "6UASixpc7iDO",
        "outputId": "d36433bc-e60c-4485-bbe9-28e496885d2b"
      },
      "outputs": [
        {
          "output_type": "stream",
          "name": "stdout",
          "text": [
            "123\n"
          ]
        }
      ],
      "source": [
        "print('123')"
      ]
    },
    {
      "cell_type": "code",
      "source": [
        "temp = float(input('請輸入你的體溫'))\n",
        "if temp>=37.5:\n",
        "  print('體溫過高!')\n",
        "elif (temp>=37 and temp<37.4):\n",
        "  print('體溫略高!')\n",
        "elif (temp>=34 and temp<=36.9):\n",
        "  print('體溫正常!')\n",
        "else:\n",
        "  print('體溫異常，請重新量測!')"
      ],
      "metadata": {
        "colab": {
          "base_uri": "https://localhost:8080/"
        },
        "id": "3xjbxkzq7kjc",
        "outputId": "89dab61f-06e5-4baa-bbf8-0c26180df7ab"
      },
      "execution_count": 12,
      "outputs": [
        {
          "output_type": "stream",
          "name": "stdout",
          "text": [
            "請輸入你的體溫37.2\n",
            "體溫略高!\n"
          ]
        }
      ]
    },
    {
      "cell_type": "code",
      "source": [
        "grade = input('請輸入成績:')\n",
        "if int(grade)>=90:\n",
        "  print('A')\n",
        "elif int(grade)>=80:\n",
        "  print('B')\n",
        "elif int(grade)>=70:\n",
        "  print('C')\n",
        "elif int(grade)>=60:\n",
        "  print('D')\n",
        "else:\n",
        "  print('E')"
      ],
      "metadata": {
        "colab": {
          "base_uri": "https://localhost:8080/"
        },
        "id": "5N9zdJ2f7kly",
        "outputId": "bb637340-3cfe-4e77-db51-638a8eb12fa4"
      },
      "execution_count": 17,
      "outputs": [
        {
          "output_type": "stream",
          "name": "stdout",
          "text": [
            "請輸入成績:89\n",
            "B\n"
          ]
        }
      ]
    },
    {
      "cell_type": "code",
      "source": [
        "money = int(input('請輸入購物金額:'))\n",
        "if (money>=10000):\n",
        "  if (money>=100000):\n",
        "    print('八折',money*0.8,end='元\\n')\n",
        "  elif (money>=50000):\n",
        "    print('八五折',money*0.85,end='元\\n')\n",
        "  elif (money>=30000):\n",
        "    print('九折',money*0.9,end='元\\n')\n",
        "  elif (money>=10000):\n",
        "    print('九五折',money*0.95,end='元\\n')\n",
        "else:\n",
        "  print('沒打折',money,end='元\\n')"
      ],
      "metadata": {
        "colab": {
          "base_uri": "https://localhost:8080/"
        },
        "id": "gFt-yJrV7koA",
        "outputId": "d48ed4b4-9261-42fd-d363-f49cca15bef5"
      },
      "execution_count": 39,
      "outputs": [
        {
          "output_type": "stream",
          "name": "stdout",
          "text": [
            "請輸入購物金額:100000\n",
            "八折 80000.0元\n"
          ]
        }
      ]
    },
    {
      "cell_type": "code",
      "source": [
        "month = int(input('請輸入月份'))\n",
        "if (3<=month<=5):\n",
        "  print(str(month)+'月'+'是春天!')\n",
        "elif (6<=month<=8):\n",
        "  print(str(month)+'月'+'是夏天!')\n",
        "elif (9<=month<=11):\n",
        "  print(str(month)+'月'+'是秋天!')\n",
        "elif (1<=month<=2 or month==12):\n",
        "  print(str(month)+'月'+'是冬天!')\n",
        "else:\n",
        "  print('月份不在範圍內!')"
      ],
      "metadata": {
        "colab": {
          "base_uri": "https://localhost:8080/"
        },
        "id": "tsdqtx8C7kqG",
        "outputId": "07c1d91c-4ad7-4ae5-913f-e22a5059061d"
      },
      "execution_count": 37,
      "outputs": [
        {
          "output_type": "stream",
          "name": "stdout",
          "text": [
            "請輸入月份10\n",
            "10月是秋天!\n"
          ]
        }
      ]
    },
    {
      "cell_type": "code",
      "source": [
        "income = int(input('請輸入今年收入淨額:'))\n",
        "if (income>=2000000):\n",
        "  print('付稅金額:',income*0.3,end='元')\n",
        "elif (income>=1000000):\n",
        "  print('付稅金額:',income*0.21,end='元')\n",
        "elif (income>=600000):\n",
        "  print('付稅金額:',income*0.13,end='元')\n",
        "elif (income>=300000):\n",
        "  print('付稅金額:',income*0.06,end='元')\n",
        "else:\n",
        "  print('付稅金額:',0,end='元')"
      ],
      "metadata": {
        "colab": {
          "base_uri": "https://localhost:8080/"
        },
        "id": "sqOGV-Lv7ksr",
        "outputId": "0c54b4cd-24a1-4e32-bf6b-e88c969d2971"
      },
      "execution_count": 33,
      "outputs": [
        {
          "output_type": "stream",
          "name": "stdout",
          "text": [
            "請輸入今年收入淨額:2000000\n",
            "付稅金額: 600000.0元"
          ]
        }
      ]
    },
    {
      "cell_type": "code",
      "source": [
        ""
      ],
      "metadata": {
        "id": "VukIiNBMMHj-"
      },
      "execution_count": null,
      "outputs": []
    },
    {
      "cell_type": "code",
      "source": [
        ""
      ],
      "metadata": {
        "id": "GxhS4Z8l7kvL"
      },
      "execution_count": null,
      "outputs": []
    },
    {
      "cell_type": "code",
      "source": [
        ""
      ],
      "metadata": {
        "id": "H68qbWFn7kxX"
      },
      "execution_count": null,
      "outputs": []
    },
    {
      "cell_type": "code",
      "source": [
        ""
      ],
      "metadata": {
        "id": "144FpOpq7kz_"
      },
      "execution_count": null,
      "outputs": []
    },
    {
      "cell_type": "code",
      "source": [
        ""
      ],
      "metadata": {
        "id": "c5ZMOYa_7k10"
      },
      "execution_count": null,
      "outputs": []
    },
    {
      "cell_type": "code",
      "source": [
        ""
      ],
      "metadata": {
        "id": "EJVUmggJ7k2_"
      },
      "execution_count": null,
      "outputs": []
    },
    {
      "cell_type": "code",
      "source": [
        ""
      ],
      "metadata": {
        "id": "ngbP4gQ17k4P"
      },
      "execution_count": null,
      "outputs": []
    },
    {
      "cell_type": "code",
      "source": [
        ""
      ],
      "metadata": {
        "id": "SoeeEjRM7k5R"
      },
      "execution_count": null,
      "outputs": []
    },
    {
      "cell_type": "code",
      "source": [
        ""
      ],
      "metadata": {
        "id": "KaPumwLX7k7X"
      },
      "execution_count": null,
      "outputs": []
    }
  ]
}